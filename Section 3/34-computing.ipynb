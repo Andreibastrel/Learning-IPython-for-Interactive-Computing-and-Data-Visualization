{
  "cells": [
    {
      "cell_type": "markdown",
      "metadata": {},
      "source": "## Computing with NumPy arrays"
    },
    {
      "cell_type": "code",
      "execution_count": 1,
      "metadata": {},
      "outputs": [],
      "source": "import numpy as np\nimport pandas as pd\nimport matplotlib.pyplot as plt\nimport seaborn as sns\n%matplotlib inline"
    },
    {
      "cell_type": "code",
      "execution_count": 2,
      "metadata": {},
      "outputs": [],
      "source": "data = pd.read_csv('../chapter2/data/nyc_data.csv',\n                   parse_dates=['pickup_datetime', 'dropoff_datetime'])"
    },
    {
      "cell_type": "code",
      "execution_count": 3,
      "metadata": {},
      "outputs": [
        {
          "data": {
            "text/plain": "array([[-73.955925,  40.781887],\n       [-74.005501,  40.745735],\n       [-73.969955,  40.79977 ],\n       ...,\n       [-73.993492,  40.729347],\n       [-73.978477,  40.772945],\n       [-73.987206,  40.750568]])"
          },
          "execution_count": 3,
          "metadata": {},
          "output_type": "execute_result"
        }
      ],
      "source": "pickup = data[['pickup_longitude', 'pickup_latitude']].values\ndropoff = data[['dropoff_longitude', 'dropoff_latitude']].values\npickup"
    },
    {
      "cell_type": "markdown",
      "metadata": {},
      "source": "### Selection and indexing"
    },
    {
      "cell_type": "code",
      "execution_count": 4,
      "metadata": {},
      "outputs": [
        {
          "data": {
            "text/plain": "40.755081"
          },
          "execution_count": 4,
          "metadata": {},
          "output_type": "execute_result"
        }
      ],
      "source": "print(pickup[3, 1])"
    },
    {
      "cell_type": "code",
      "execution_count": 5,
      "metadata": {},
      "outputs": [
        {
          "data": {
            "text/plain": "array([[ 40.745735],\n       [ 40.755081],\n       [ 40.768978]])"
          },
          "execution_count": 5,
          "metadata": {},
          "output_type": "execute_result"
        }
      ],
      "source": "pickup[1:7:2, 1:]"
    },
    {
      "cell_type": "code",
      "execution_count": 6,
      "metadata": {},
      "outputs": [
        {
          "data": {
            "text/plain": "array([-73.9559, -74.0055, ..., -73.9784, -73.9872])"
          },
          "execution_count": 6,
          "metadata": {},
          "output_type": "execute_result"
        }
      ],
      "source": "lon = pickup[:, 0]\nlon"
    },
    {
      "cell_type": "code",
      "execution_count": 7,
      "metadata": {},
      "outputs": [
        {
          "data": {
            "text/plain": "array([ 40.7818, 40.7457, ..., 40.7729, 40.7505])"
          },
          "execution_count": 7,
          "metadata": {},
          "output_type": "execute_result"
        }
      ],
      "source": "lat = pickup[:, 1]\nlat"
    },
    {
      "cell_type": "markdown",
      "metadata": {},
      "source": "### Boolean operations on arrays"
    },
    {
      "cell_type": "code",
      "execution_count": 8,
      "metadata": {},
      "outputs": [],
      "source": "lon_min, lon_max = (-73.98330, -73.98025)\nlat_min, lat_max = ( 40.76724,  40.76871)"
    },
    {
      "cell_type": "code",
      "execution_count": 9,
      "metadata": {},
      "outputs": [
        {
          "data": {
            "text/plain": "array([False, False, False, ..., False, False, False], dtype=bool)"
          },
          "execution_count": 9,
          "metadata": {},
          "output_type": "execute_result"
        }
      ],
      "source": "in_lon = (lon_min <= lon) & (lon <= lon_max)\nin_lon"
    },
    {
      "cell_type": "code",
      "execution_count": 10,
      "metadata": {},
      "outputs": [
        {
          "data": {
            "text/plain": "69163"
          },
          "execution_count": 10,
          "metadata": {},
          "output_type": "execute_result"
        }
      ],
      "source": "in_lon.sum()"
    },
    {
      "cell_type": "code",
      "execution_count": 11,
      "metadata": {},
      "outputs": [],
      "source": "in_lat = (lat_min <= lat) & (lat <= lat_max)"
    },
    {
      "cell_type": "code",
      "execution_count": 12,
      "metadata": {},
      "outputs": [
        {
          "data": {
            "text/plain": "3998"
          },
          "execution_count": 12,
          "metadata": {},
          "output_type": "execute_result"
        }
      ],
      "source": "in_lonlat = in_lon & in_lat\nin_lonlat.sum()"
    },
    {
      "cell_type": "code",
      "execution_count": 13,
      "metadata": {},
      "outputs": [
        {
          "data": {
            "text/plain": "array([   901,   1011,   1066, ..., 845749, 845903, 846080])"
          },
          "execution_count": 13,
          "metadata": {},
          "output_type": "execute_result"
        }
      ],
      "source": "np.nonzero(in_lonlat)[0]"
    },
    {
      "cell_type": "code",
      "execution_count": 14,
      "metadata": {},
      "outputs": [],
      "source": "lon1, lat1 = dropoff.T"
    },
    {
      "cell_type": "markdown",
      "metadata": {},
      "source": "### Mathematical operations on arrays"
    },
    {
      "cell_type": "code",
      "execution_count": 15,
      "metadata": {},
      "outputs": [],
      "source": "EARTH_R = 6372.8\ndef geo_distance(lon0, lat0, lon1, lat1):\n    \"\"\"Return the distance (in km) between two points in\n    geographical coordinates.\"\"\"\n    # from: http://en.wikipedia.org/wiki/Great-circle_distance\n    # and: http://stackoverflow.com/a/8859667/1595060\n    lat0 = np.radians(lat0)\n    lon0 = np.radians(lon0)\n    lat1 = np.radians(lat1)\n    lon1 = np.radians(lon1)\n    dlon = lon0 - lon1\n    y = np.sqrt(\n        (np.cos(lat1) * np.sin(dlon)) ** 2\n         + (np.cos(lat0) * np.sin(lat1)\n         - np.sin(lat0) * np.cos(lat1) * np.cos(dlon)) ** 2)\n    x = np.sin(lat0) * np.sin(lat1) + \\\n        np.cos(lat0) * np.cos(lat1) * np.cos(dlon)\n    c = np.arctan2(y, x)\n    return EARTH_R * c"
    },
    {
      "cell_type": "code",
      "execution_count": 16,
      "metadata": {},
      "outputs": [],
      "source": "distances = geo_distance(lon, lat, lon1, lat1)"
    },
    {
      "cell_type": "code",
      "execution_count": 17,
      "metadata": {},
      "outputs": [],
      "source": "plt.hist(distances[in_lonlat], np.linspace(0., 10., 50))\nplt.xlabel('Trip distance (km)')\nplt.ylabel('Number of trips')"
    },
    {
      "cell_type": "markdown",
      "metadata": {},
      "source": "### A density map with NumPy"
    },
    {
      "cell_type": "code",
      "execution_count": 18,
      "metadata": {},
      "outputs": [],
      "source": "evening = (data.pickup_datetime.dt.hour >= 19).values"
    },
    {
      "cell_type": "code",
      "execution_count": 19,
      "metadata": {},
      "outputs": [],
      "source": "n = np.sum(evening)"
    },
    {
      "cell_type": "code",
      "execution_count": 20,
      "metadata": {},
      "outputs": [
        {
          "data": {
            "text/plain": "242818"
          },
          "execution_count": 20,
          "metadata": {},
          "output_type": "execute_result"
        }
      ],
      "source": "n"
    },
    {
      "cell_type": "code",
      "execution_count": 21,
      "metadata": {},
      "outputs": [],
      "source": "weights = np.zeros(2 * n)"
    },
    {
      "cell_type": "code",
      "execution_count": 22,
      "metadata": {},
      "outputs": [],
      "source": "weights[:n] = -1\nweights[n:] = +1"
    },
    {
      "cell_type": "code",
      "execution_count": 23,
      "metadata": {},
      "outputs": [],
      "source": "points = np.r_[pickup[evening],\n               dropoff[evening]]"
    },
    {
      "cell_type": "code",
      "execution_count": 24,
      "metadata": {},
      "outputs": [
        {
          "data": {
            "text/plain": "(485636, 2)"
          },
          "execution_count": 24,
          "metadata": {},
          "output_type": "execute_result"
        }
      ],
      "source": "points.shape"
    },
    {
      "cell_type": "code",
      "execution_count": 25,
      "metadata": {},
      "outputs": [],
      "source": "def lat_lon_to_pixels(lat, lon):\n    lat_rad = lat * np.pi / 180.0\n    lat_rad = np.log(np.tan((lat_rad + np.pi / 2.0) / 2.0))\n    x = 100 * (lon + 180.0) / 360.0\n    y = 100 * (lat_rad - np.pi) / (2.0 * np.pi)\n    return (x, y)"
    },
    {
      "cell_type": "code",
      "execution_count": 26,
      "metadata": {},
      "outputs": [],
      "source": "lon, lat = points.T\nx, y = lat_lon_to_pixels(lat, lon)"
    },
    {
      "cell_type": "code",
      "execution_count": 27,
      "metadata": {},
      "outputs": [],
      "source": "lon_min, lat_min = -74.0214, 40.6978\nlon_max, lat_max = -73.9524, 40.7982"
    },
    {
      "cell_type": "code",
      "execution_count": 28,
      "metadata": {},
      "outputs": [],
      "source": "x_min, y_min = lat_lon_to_pixels(lat_min, lon_min)\nx_max, y_max = lat_lon_to_pixels(lat_max, lon_max)"
    },
    {
      "cell_type": "code",
      "execution_count": 29,
      "metadata": {},
      "outputs": [],
      "source": "bin = .00003\nbins_x = np.arange(x_min, x_max, bin)\nbins_y = np.arange(y_min, y_max, bin)"
    },
    {
      "cell_type": "code",
      "execution_count": 30,
      "metadata": {},
      "outputs": [],
      "source": "grid, _, _ = np.histogram2d(y, x, weights=weights,\n                            bins=(bins_y, bins_x))"
    },
    {
      "cell_type": "code",
      "execution_count": 31,
      "metadata": {},
      "outputs": [],
      "source": "density = 1. / (1. + np.exp(-.5 * grid))"
    },
    {
      "cell_type": "code",
      "execution_count": 32,
      "metadata": {},
      "outputs": [],
      "source": "plt.imshow(density,\n           origin='lower',\n           interpolation='bicubic'\n           )\nplt.axis('off')"
    },
    {
      "cell_type": "markdown",
      "metadata": {},
      "source": "### Other topics"
    }
  ],
  "metadata": {},
  "nbformat": 4,
  "nbformat_minor": 0
}