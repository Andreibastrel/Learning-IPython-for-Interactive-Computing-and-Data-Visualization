{
  "cells": [
    {
      "cell_type": "markdown",
      "metadata": {},
      "source": "## A crash course on Python"
    },
    {
      "cell_type": "markdown",
      "metadata": {},
      "source": "### Hello world"
    },
    {
      "cell_type": "code",
      "execution_count": 1,
      "metadata": {},
      "outputs": [
        {
          "data": {
            "text/plain": "Hello world!"
          },
          "execution_count": 1,
          "metadata": {},
          "output_type": "execute_result"
        }
      ],
      "source": "print(\"Hello world!\")"
    },
    {
      "cell_type": "markdown",
      "metadata": {},
      "source": "### Variables"
    },
    {
      "cell_type": "code",
      "execution_count": 2,
      "metadata": {},
      "outputs": [
        {
          "data": {
            "text/plain": "4"
          },
          "execution_count": 2,
          "metadata": {},
          "output_type": "execute_result"
        }
      ],
      "source": "2 * 2"
    },
    {
      "cell_type": "code",
      "execution_count": 3,
      "metadata": {},
      "outputs": [],
      "source": "a = 2"
    },
    {
      "cell_type": "code",
      "execution_count": 4,
      "metadata": {},
      "outputs": [
        {
          "data": {
            "text/plain": "6"
          },
          "execution_count": 4,
          "metadata": {},
          "output_type": "execute_result"
        }
      ],
      "source": "a * 3"
    },
    {
      "cell_type": "code",
      "execution_count": 5,
      "metadata": {},
      "outputs": [],
      "source": "a, b = 2, 6"
    },
    {
      "cell_type": "code",
      "execution_count": 6,
      "metadata": {},
      "outputs": [
        {
          "data": {
            "text/plain": "pi is about 3.1415"
          },
          "execution_count": 6,
          "metadata": {},
          "output_type": "execute_result"
        }
      ],
      "source": "somefloat = 3.1415  # The \"dot\" character represents the radix point.\nsometext = 'pi is about'  # Use single or double quotes for strings.\nprint(sometext, somefloat)  # This displays several variables concatenated."
    },
    {
      "cell_type": "markdown",
      "metadata": {},
      "source": "### String escaping"
    },
    {
      "cell_type": "code",
      "execution_count": 7,
      "metadata": {},
      "outputs": [
        {
          "data": {
            "text/plain": "Hello \"world\"\nA list:\n* item 1\n* item 2\nC:\\path\\on\\windows\nC:\\path\\on\\windows"
          },
          "execution_count": 7,
          "metadata": {},
          "output_type": "execute_result"
        }
      ],
      "source": "print(\"Hello \\\"world\\\"\")\nprint(\"A list:\\n* item 1\\n* item 2\")\nprint(\"C:\\\\path\\\\on\\\\windows\")\nprint(r\"C:\\path\\on\\windows\")"
    },
    {
      "cell_type": "markdown",
      "metadata": {},
      "source": "### Lists"
    },
    {
      "cell_type": "code",
      "execution_count": 8,
      "metadata": {},
      "outputs": [],
      "source": "items = [1, 3, 0, 4, 1]"
    },
    {
      "cell_type": "code",
      "execution_count": 9,
      "metadata": {},
      "outputs": [
        {
          "data": {
            "text/plain": "5"
          },
          "execution_count": 9,
          "metadata": {},
          "output_type": "execute_result"
        }
      ],
      "source": "len(items)"
    },
    {
      "cell_type": "code",
      "execution_count": 10,
      "metadata": {},
      "outputs": [
        {
          "data": {
            "text/plain": "9"
          },
          "execution_count": 10,
          "metadata": {},
          "output_type": "execute_result"
        }
      ],
      "source": "sum(items)"
    },
    {
      "cell_type": "code",
      "execution_count": 11,
      "metadata": {},
      "outputs": [
        {
          "data": {
            "text/plain": "1"
          },
          "execution_count": 11,
          "metadata": {},
          "output_type": "execute_result"
        }
      ],
      "source": "items[0]"
    },
    {
      "cell_type": "code",
      "execution_count": 12,
      "metadata": {},
      "outputs": [
        {
          "data": {
            "text/plain": "1"
          },
          "execution_count": 12,
          "metadata": {},
          "output_type": "execute_result"
        }
      ],
      "source": "items[-1]"
    },
    {
      "cell_type": "code",
      "execution_count": 13,
      "metadata": {},
      "outputs": [
        {
          "data": {
            "text/plain": "[1, 9, 0, 4, 1]"
          },
          "execution_count": 13,
          "metadata": {},
          "output_type": "execute_result"
        }
      ],
      "source": "items[1] = 9\nitems"
    },
    {
      "cell_type": "code",
      "execution_count": 14,
      "metadata": {},
      "outputs": [
        {
          "data": {
            "text/plain": "[9, 0]"
          },
          "execution_count": 14,
          "metadata": {},
          "output_type": "execute_result"
        }
      ],
      "source": "items[1:3]"
    },
    {
      "cell_type": "code",
      "execution_count": 15,
      "metadata": {},
      "outputs": [
        {
          "data": {
            "text/plain": "2"
          },
          "execution_count": 15,
          "metadata": {},
          "output_type": "execute_result"
        }
      ],
      "source": "my_tuple = (1, 2, 3)\nmy_tuple[1]"
    },
    {
      "cell_type": "code",
      "execution_count": 16,
      "metadata": {},
      "outputs": [
        {
          "data": {
            "text/plain": "a: 1"
          },
          "execution_count": 16,
          "metadata": {},
          "output_type": "execute_result"
        }
      ],
      "source": "my_dict = {'a': 1, 'b': 2, 'c': 3}\nprint('a:', my_dict['a'])"
    },
    {
      "cell_type": "code",
      "execution_count": 17,
      "metadata": {},
      "outputs": [
        {
          "data": {
            "text/plain": "dict_keys(['c', 'a', 'b'])"
          },
          "execution_count": 17,
          "metadata": {},
          "output_type": "execute_result"
        }
      ],
      "source": "print(my_dict.keys())"
    },
    {
      "cell_type": "code",
      "execution_count": 18,
      "metadata": {},
      "outputs": [
        {
          "data": {
            "text/plain": "{1, 2, 3}"
          },
          "execution_count": 18,
          "metadata": {},
          "output_type": "execute_result"
        }
      ],
      "source": "my_set = set([1, 2, 3, 2, 1])\nmy_set"
    },
    {
      "cell_type": "markdown",
      "metadata": {},
      "source": "### Loops"
    },
    {
      "cell_type": "code",
      "execution_count": 19,
      "metadata": {},
      "outputs": [
        {
          "data": {
            "text/plain": "1\n9\n0\n4\n1"
          },
          "execution_count": 19,
          "metadata": {},
          "output_type": "execute_result"
        }
      ],
      "source": "for item in items:\n    print(item)"
    },
    {
      "cell_type": "code",
      "execution_count": 20,
      "metadata": {},
      "outputs": [
        {
          "data": {
            "text/plain": "[1, 81, 0, 16, 1]"
          },
          "execution_count": 20,
          "metadata": {},
          "output_type": "execute_result"
        }
      ],
      "source": "squares = [item * item for item in items]\nsquares"
    },
    {
      "cell_type": "markdown",
      "metadata": {},
      "source": "### Indentation"
    },
    {
      "cell_type": "markdown",
      "metadata": {},
      "source": "### Conditional branches"
    },
    {
      "cell_type": "code",
      "execution_count": 21,
      "metadata": {},
      "outputs": [
        {
          "data": {
            "text/plain": "0\n4"
          },
          "execution_count": 21,
          "metadata": {},
          "output_type": "execute_result"
        }
      ],
      "source": "for item in items:\n    if item % 2 == 0:\n        print(item)"
    },
    {
      "cell_type": "code",
      "execution_count": 22,
      "metadata": {},
      "outputs": [
        {
          "data": {
            "text/plain": "[0, 4]"
          },
          "execution_count": 22,
          "metadata": {},
          "output_type": "execute_result"
        }
      ],
      "source": "even = [item for item in items if item % 2 == 0]\neven"
    },
    {
      "cell_type": "markdown",
      "metadata": {},
      "source": "### Functions"
    },
    {
      "cell_type": "code",
      "execution_count": 23,
      "metadata": {},
      "outputs": [],
      "source": "def is_even(number):\n    \"\"\"Return whether an integer is even or not.\"\"\"\n    return number % 2 == 0"
    },
    {
      "cell_type": "code",
      "execution_count": 24,
      "metadata": {},
      "outputs": [
        {
          "data": {
            "text/plain": "False"
          },
          "execution_count": 24,
          "metadata": {},
          "output_type": "execute_result"
        }
      ],
      "source": "is_even(3)"
    },
    {
      "cell_type": "code",
      "execution_count": 25,
      "metadata": {},
      "outputs": [
        {
          "data": {
            "text/plain": "True"
          },
          "execution_count": 25,
          "metadata": {},
          "output_type": "execute_result"
        }
      ],
      "source": "is_even(4)"
    },
    {
      "cell_type": "markdown",
      "metadata": {},
      "source": "### Positional and keyword arguments"
    },
    {
      "cell_type": "code",
      "execution_count": 26,
      "metadata": {},
      "outputs": [],
      "source": "def remainder(number, divisor=2):\n    return number % divisor"
    },
    {
      "cell_type": "code",
      "execution_count": 27,
      "metadata": {},
      "outputs": [
        {
          "data": {
            "text/plain": "1"
          },
          "execution_count": 27,
          "metadata": {},
          "output_type": "execute_result"
        }
      ],
      "source": "remainder(5)"
    },
    {
      "cell_type": "code",
      "execution_count": 28,
      "metadata": {},
      "outputs": [
        {
          "data": {
            "text/plain": "2"
          },
          "execution_count": 28,
          "metadata": {},
          "output_type": "execute_result"
        }
      ],
      "source": "remainder(5, 3)"
    },
    {
      "cell_type": "code",
      "execution_count": 29,
      "metadata": {},
      "outputs": [
        {
          "data": {
            "text/plain": "2"
          },
          "execution_count": 29,
          "metadata": {},
          "output_type": "execute_result"
        }
      ],
      "source": "remainder(5, divisor=3)"
    },
    {
      "cell_type": "code",
      "execution_count": 30,
      "metadata": {},
      "outputs": [],
      "source": "def f(*args, **kwargs):\n    print(\"Positional arguments:\", args)\n    print(\"Keyword arguments:\", kwargs)"
    },
    {
      "cell_type": "code",
      "execution_count": 31,
      "metadata": {},
      "outputs": [
        {
          "data": {
            "text/plain": "Positional arguments: (1, 2)\nKeyword arguments: {'c': 3, 'd': 4}"
          },
          "execution_count": 31,
          "metadata": {},
          "output_type": "execute_result"
        }
      ],
      "source": "f(1, 2, c=3, d=4)"
    },
    {
      "cell_type": "markdown",
      "metadata": {},
      "source": "### Passage by assignment"
    },
    {
      "cell_type": "code",
      "execution_count": 32,
      "metadata": {},
      "outputs": [
        {
          "data": {
            "text/plain": "[1, 2, 3]"
          },
          "execution_count": 32,
          "metadata": {},
          "output_type": "execute_result"
        }
      ],
      "source": "my_list = [1, 2]\n\ndef add(some_list, value):\n    some_list.append(value)\n\nadd(my_list, 3)\nmy_list"
    },
    {
      "cell_type": "markdown",
      "metadata": {},
      "source": "### Errors"
    },
    {
      "cell_type": "code",
      "execution_count": 33,
      "metadata": {},
      "outputs": [],
      "source": "def divide(a, b):\n    return a / b"
    },
    {
      "cell_type": "code",
      "execution_count": 34,
      "metadata": {},
      "outputs": [
        {
          "data": {
            "text/plain": "---------------------------------------------------------------------------\nZeroDivisionError                         Traceback (most recent call last)\n<ipython-input-2-b77ebb6ac6f6> in <module>()\n----> 1 divide(1, 0)\n\n<ipython-input-1-5c74f9fd7706> in divide(a, b)\n      1 def divide(a, b):\n----> 2     return a / b\n\nZeroDivisionError: division by zero"
          },
          "execution_count": 34,
          "metadata": {},
          "output_type": "execute_result"
        }
      ],
      "source": "divide(1, 0)"
    },
    {
      "cell_type": "markdown",
      "metadata": {},
      "source": "### Object-oriented programming"
    },
    {
      "cell_type": "code",
      "execution_count": 35,
      "metadata": {},
      "outputs": [
        {
          "data": {
            "text/plain": "str"
          },
          "execution_count": 35,
          "metadata": {},
          "output_type": "execute_result"
        }
      ],
      "source": "type('hello')"
    },
    {
      "cell_type": "code",
      "execution_count": 36,
      "metadata": {},
      "outputs": [
        {
          "data": {
            "text/plain": "'HELLO'"
          },
          "execution_count": 36,
          "metadata": {},
          "output_type": "execute_result"
        }
      ],
      "source": "'hello'.upper()"
    },
    {
      "cell_type": "code",
      "execution_count": 37,
      "metadata": {},
      "outputs": [
        {
          "data": {
            "text/plain": "Hello Python!"
          },
          "execution_count": 37,
          "metadata": {},
          "output_type": "execute_result"
        }
      ],
      "source": "'Hello {0:s}!'.format('Python')"
    },
    {
      "cell_type": "markdown",
      "metadata": {},
      "source": "### Functional programming"
    },
    {
      "cell_type": "code",
      "execution_count": 38,
      "metadata": {},
      "outputs": [],
      "source": "def show_output(func):\n    def wrapped(*args, **kwargs):\n        output = func(*args, **kwargs)\n        print(\"The result is:\", output)\n    return wrapped"
    },
    {
      "cell_type": "code",
      "execution_count": 39,
      "metadata": {},
      "outputs": [
        {
          "data": {
            "text/plain": "The result is: False"
          },
          "execution_count": 39,
          "metadata": {},
          "output_type": "execute_result"
        }
      ],
      "source": "f = show_output(is_even)\nf(3)"
    },
    {
      "cell_type": "code",
      "execution_count": 40,
      "metadata": {},
      "outputs": [],
      "source": "@show_output\ndef square(x):\n    return x * x"
    },
    {
      "cell_type": "code",
      "execution_count": 41,
      "metadata": {},
      "outputs": [
        {
          "data": {
            "text/plain": "The result is: 9"
          },
          "execution_count": 41,
          "metadata": {},
          "output_type": "execute_result"
        }
      ],
      "source": "square(3)"
    },
    {
      "cell_type": "markdown",
      "metadata": {},
      "source": "### Python 2 and 3"
    },
    {
      "cell_type": "markdown",
      "metadata": {},
      "source": "### Going beyond the basics"
    }
  ],
  "metadata": {},
  "nbformat": 4,
  "nbformat_minor": 0
}